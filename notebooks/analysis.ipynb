{
 "cells": [
  {
   "cell_type": "code",
   "execution_count": 1,
   "source": [
    "import pandas as pd\n",
    "import networkx as nx\n",
    "import matplotlib.pyplot as plt\n",
    "import os\n",
    "import sys\n",
    "sys.path.append(os.path.abspath('../'))\n",
    "from simulation import model\n",
    "from simulation.data import io\n",
    "from simulation import simulation"
   ],
   "outputs": [],
   "metadata": {}
  },
  {
   "cell_type": "code",
   "execution_count": 2,
   "source": [
    "s = pd.Series([v for k, v in dict(model.bipartite_graph.degree()).items() if k in model.channels])"
   ],
   "outputs": [],
   "metadata": {}
  },
  {
   "cell_type": "code",
   "execution_count": 4,
   "source": [
    "'{:.2%}'.format(s[s>2].size / s.size)"
   ],
   "outputs": [
    {
     "output_type": "execute_result",
     "data": {
      "text/plain": [
       "'33.99%'"
      ]
     },
     "metadata": {},
     "execution_count": 4
    }
   ],
   "metadata": {}
  },
  {
   "cell_type": "code",
   "execution_count": null,
   "source": [
    "ACMBlue = '#00cfe6'\n",
    "ACMYellow = '#ffd600'\n",
    "ACMOrange = '#fc9200'\n",
    "ACMRed = '#ff1924'\n",
    "ACMLightBlue = '#82fcff'\n",
    "ACMGreen = '#a5cf00'\n",
    "ACMPurple = '#6200d9'\n",
    "ACMDarkBlue = '#0055c9'\n",
    "\n",
    "plt.rcParams.update({\n",
    "    \"font.family\": \"serif\",  # use serif/main font for text elements\n",
    "    \"text.usetex\": True,     # use inline math for ticks\n",
    "    \"pgf.rcfonts\": False     # don't setup fonts from rc parameters\n",
    "    })"
   ],
   "outputs": [],
   "metadata": {}
  },
  {
   "cell_type": "markdown",
   "source": [
    "# Time-ignoring horizon"
   ],
   "metadata": {}
  },
  {
   "cell_type": "code",
   "execution_count": null,
   "source": [
    "time_ignoring_horizon = io.load_horizon_cardinalities(is_time_respecting=False, file_name='simulation_results.hdf')"
   ],
   "outputs": [],
   "metadata": {}
  },
  {
   "cell_type": "code",
   "execution_count": null,
   "source": [
    "time_ignoring_horizon.describe()"
   ],
   "outputs": [],
   "metadata": {}
  },
  {
   "cell_type": "markdown",
   "source": [
    "Largest components"
   ],
   "metadata": {}
  },
  {
   "cell_type": "code",
   "execution_count": null,
   "source": [
    "for s in sorted([len(cc & model.participants) for cc in nx.connected_components(model.bipartite_graph)], reverse=True)[0:5]:\n",
    "    print(s, '{:.2%}'.format(s/len(model.participants)))"
   ],
   "outputs": [],
   "metadata": {}
  },
  {
   "cell_type": "markdown",
   "source": [
    "# Time-respecting horizon"
   ],
   "metadata": {}
  },
  {
   "cell_type": "code",
   "execution_count": null,
   "source": [
    "time_respecting_horizon = io.load_simulation_results(time_respecting=True)"
   ],
   "outputs": [],
   "metadata": {}
  },
  {
   "cell_type": "code",
   "execution_count": null,
   "source": [
    "time_respecting_horizon.describe()"
   ],
   "outputs": [],
   "metadata": {}
  },
  {
   "cell_type": "code",
   "execution_count": null,
   "source": [
    "'{:.2%}'.format(26216/len(model.participants))"
   ],
   "outputs": [],
   "metadata": {}
  },
  {
   "cell_type": "markdown",
   "source": [
    "# Difference between both models"
   ],
   "metadata": {}
  },
  {
   "cell_type": "code",
   "execution_count": null,
   "source": [
    "diff = time_ignoring_horizon - time_respecting_horizon"
   ],
   "outputs": [],
   "metadata": {}
  },
  {
   "cell_type": "code",
   "execution_count": null,
   "source": [
    "diff.describe()"
   ],
   "outputs": [],
   "metadata": {}
  },
  {
   "cell_type": "markdown",
   "source": [
    "# Plots"
   ],
   "metadata": {}
  },
  {
   "cell_type": "code",
   "execution_count": null,
   "source": [
    "fig, ax = plt.subplots(figsize=(7.22, 7.22/3), dpi=350, constrained_layout=True)\n",
    "\n",
    "violinplot = ax.violinplot([time_respecting_horizon, time_ignoring_horizon], vert=False, showmeans=True, showmedians=True, points=1000, widths=1, showextrema=True);\n",
    "\n",
    "for i in violinplot['bodies']:\n",
    "    i.set_facecolor('black')\n",
    "\n",
    "violinplot['cmeans'].set_color(ACMDarkBlue)\n",
    "violinplot['cmeans'].set_label('Mean')\n",
    "\n",
    "violinplot['cmedians'].set_color(ACMRed)\n",
    "violinplot['cmedians'].set_label('Median')\n",
    "\n",
    "for k in ['cmaxes', 'cmins', 'cbars']:\n",
    "    violinplot[k].set_color('gray')\n",
    "\n",
    "yticklabels = ['Time-ignoring', 'Time-respecting']\n",
    "ax.set_yticks([1, 2])\n",
    "ax.set_yticklabels(yticklabels)\n",
    "ax.set_xlabel('Cardinality of horizon')\n",
    "ax.xaxis.set_major_formatter(plt.matplotlib.ticker.StrMethodFormatter('{x:,.0f}'))\n",
    "\n",
    "ax.grid(which='both', axis='x', linestyle='--')\n",
    "plt.legend(loc='upper center');\n",
    "\n",
    "plt.savefig('../plots/dist.pgf', dpi=1000, bbox_inches='tight')"
   ],
   "outputs": [],
   "metadata": {}
  },
  {
   "cell_type": "code",
   "execution_count": null,
   "source": [
    "fig, ax = plt.subplots(figsize=(3.5, 3.5), dpi=150, constrained_layout=True);\n",
    "\n",
    "violinplot = ax.violinplot(diff, vert=True, showmeans=True, showmedians=True, points=1000, widths=0.8, showextrema=True);\n",
    "\n",
    "for i in violinplot['bodies']:\n",
    "    i.set_facecolor('black')\n",
    "\n",
    "violinplot['cmeans'].set_color(ACMDarkBlue)\n",
    "violinplot['cmeans'].set_label('Mean')\n",
    "\n",
    "violinplot['cmedians'].set_color(ACMRed)\n",
    "violinplot['cmedians'].set_label('Median')\n",
    "\n",
    "for k in ['cmaxes', 'cmins', 'cbars']:\n",
    "    violinplot[k].set_color('gray')\n",
    "\n",
    "ax.set_xticks([], minor=False)\n",
    "ax.set_ylabel('Cardinality of horizon')\n",
    "ax.yaxis.set_major_formatter(plt.matplotlib.ticker.StrMethodFormatter('{x:,.0f}'))\n",
    "\n",
    "ax.grid(which='both', axis='y', linestyle='--')\n",
    "plt.legend(loc='best');\n",
    "plt.savefig('../plots/diff.pgf', dpi=1000, bbox_inches = 'tight')\n"
   ],
   "outputs": [],
   "metadata": {}
  },
  {
   "cell_type": "code",
   "execution_count": null,
   "source": [],
   "outputs": [],
   "metadata": {}
  }
 ],
 "metadata": {
  "orig_nbformat": 4,
  "language_info": {
   "name": "python",
   "version": "3.9.6",
   "mimetype": "text/x-python",
   "codemirror_mode": {
    "name": "ipython",
    "version": 3
   },
   "pygments_lexer": "ipython3",
   "nbconvert_exporter": "python",
   "file_extension": ".py"
  },
  "kernelspec": {
   "name": "python3",
   "display_name": "Python 3.9.6 64-bit"
  },
  "interpreter": {
   "hash": "aee8b7b246df8f9039afb4144a1f6fd8d2ca17a180786b69acc140d282b71a49"
  }
 },
 "nbformat": 4,
 "nbformat_minor": 2
}